{
 "cells": [
  {
   "cell_type": "code",
   "execution_count": null,
   "metadata": {},
   "outputs": [],
   "source": [
    "import pandas as pd\n",
    "\n",
    "\n",
    "def sum(a, b):\n",
    "    return a + b\n",
    "\n",
    "\n",
    "def sub(a, b):\n",
    "    return a - b\n",
    "\n",
    "\n",
    "dummy_data = {\"key1\": \"value1\", \"key2\": \"value2\"}\n"
   ]
  }
 ],
 "metadata": {
  "kernelspec": {
   "display_name": ".venv",
   "language": "python",
   "name": "python3"
  },
  "language_info": {
   "name": "python",
   "version": "3.11.9"
  }
 },
 "nbformat": 4,
 "nbformat_minor": 2
}
